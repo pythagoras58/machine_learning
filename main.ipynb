{
 "cells": [
  {
   "cell_type": "code",
   "execution_count": 13,
   "metadata": {},
   "outputs": [],
   "source": [
    "import pandas as pd\n",
    "import numpy as np\n",
    "import sklearn\n",
    "from sklearn import linear_model\n",
    "from sklearn.utils import shuffle\n",
    "import matplotlib.pyplot as plt\n",
    "import pickle\n",
    "from matplotlib import style"
   ]
  },
  {
   "cell_type": "code",
   "execution_count": 14,
   "metadata": {},
   "outputs": [],
   "source": [
    "data = pd.read_csv(\"data/student-mat.csv\", sep=\";\")\n",
    "\n",
    "# print(data.head())\n",
    "data = data[[\"G1\",\"G2\",\"G3\",\"studytime\",\"failures\",\"absences\"]]"
   ]
  },
  {
   "cell_type": "code",
   "execution_count": 15,
   "metadata": {},
   "outputs": [
    {
     "name": "stdout",
     "output_type": "stream",
     "text": [
      "   G1  G2  G3  studytime  failures  absences\n",
      "0   5   6   6          2         0         6\n",
      "1   5   5   6          2         0         4\n",
      "2   7   8  10          2         3        10\n",
      "3  15  14  15          3         0         2\n",
      "4   6  10  10          2         0         4\n"
     ]
    }
   ],
   "source": [
    "print(data.head())\n",
    "\n",
    "# let predict represent the label\n",
    "predict = \"G3\"\n",
    "# drop the dataframe without the label :: G3\n",
    "X = np.array(data.drop([predict], axis=1)) \n",
    "\n",
    "Y = np.array(data[predict])\n",
    "\n"
   ]
  },
  {
   "cell_type": "code",
   "execution_count": 16,
   "metadata": {},
   "outputs": [],
   "source": [
    "best = 0\n"
   ]
  },
  {
   "cell_type": "code",
   "execution_count": 6,
   "metadata": {},
   "outputs": [
    {
     "name": "stdout",
     "output_type": "stream",
     "text": [
      "Model Accuracy : 0.7216510316917637\n",
      "Coefficient : [ 0.1494675   0.97151131 -0.20155586 -0.37850664  0.03174377]\n",
      "Intercept : -1.2188653507826643\n",
      "(11.00772483230233, array([13, 11,  2,  0,  0], dtype=int64)) : Actual predictions value: 10\n",
      "(8.088325579660259, array([9, 9, 2, 1, 0], dtype=int64)) : Actual predictions value: 0\n",
      "(7.409340954103229, array([8, 8, 2, 0, 2], dtype=int64)) : Actual predictions value: 8\n",
      "(13.152609277566283, array([14, 13,  3,  0,  8], dtype=int64)) : Actual predictions value: 14\n",
      "(11.207438835046498, array([12, 11,  2,  0, 11], dtype=int64)) : Actual predictions value: 11\n",
      "(5.248073548045546, array([7, 7, 2, 3, 5], dtype=int64)) : Actual predictions value: 7\n",
      "(14.210100541441381, array([15, 14,  3,  0,  6], dtype=int64)) : Actual predictions value: 14\n",
      "(11.014828379246348, array([10, 11,  1,  0,  8], dtype=int64)) : Actual predictions value: 10\n",
      "(15.510142802204577, array([15, 15,  2,  0, 10], dtype=int64)) : Actual predictions value: 15\n",
      "(7.857743447334213, array([11,  8,  2,  0,  2], dtype=int64)) : Actual predictions value: 8\n",
      "(12.44614136943688, array([14, 12,  2,  0, 10], dtype=int64)) : Actual predictions value: 11\n",
      "(14.284681308356932, array([15, 14,  2,  0,  2], dtype=int64)) : Actual predictions value: 14\n",
      "(6.751819485981202, array([9, 8, 1, 3, 6], dtype=int64)) : Actual predictions value: 10\n",
      "(13.793441820982016, array([12, 14,  3,  0,  7], dtype=int64)) : Actual predictions value: 14\n",
      "(8.08920122285, array([10,  8,  2,  0, 14], dtype=int64)) : Actual predictions value: 9\n",
      "(11.945344552034964, array([11, 12,  1,  0,  2], dtype=int64)) : Actual predictions value: 11\n",
      "(11.189206918588567, array([12, 11,  1,  1, 16], dtype=int64)) : Actual predictions value: 12\n",
      "(15.256192620031612, array([15, 15,  2,  0,  2], dtype=int64)) : Actual predictions value: 14\n",
      "(6.8060556654100015, array([10,  8,  1,  3,  3], dtype=int64)) : Actual predictions value: 7\n",
      "(8.616299715721988, array([10,  9,  2,  0,  0], dtype=int64)) : Actual predictions value: 0\n",
      "(7.30241158699727, array([5, 9, 2, 2, 6], dtype=int64)) : Actual predictions value: 7\n",
      "(17.285195195581387, array([16, 17,  2,  0,  0], dtype=int64)) : Actual predictions value: 17\n",
      "(9.587811027396667, array([10, 10,  2,  0,  0], dtype=int64)) : Actual predictions value: 10\n",
      "(18.342992423369044, array([18, 18,  4,  0,  6], dtype=int64)) : Actual predictions value: 18\n",
      "(6.213781377769337, array([7, 7, 3, 0, 6], dtype=int64)) : Actual predictions value: 7\n",
      "(11.060119156473261, array([13, 11,  3,  0,  8], dtype=int64)) : Actual predictions value: 11\n",
      "(13.922258767326367, array([13, 14,  2,  0,  0], dtype=int64)) : Actual predictions value: 15\n",
      "(5.761931000374798, array([5, 8, 2, 3, 0], dtype=int64)) : Actual predictions value: 7\n",
      "(10.331158841686682, array([12, 10,  2,  0, 14], dtype=int64)) : Actual predictions value: 11\n",
      "(12.79229940756454, array([11, 13,  1,  1, 10], dtype=int64)) : Actual predictions value: 13\n",
      "(12.815667457411461, array([13, 12,  1,  0, 20], dtype=int64)) : Actual predictions value: 12\n",
      "(11.227213743256065, array([11, 12,  3,  1,  4], dtype=int64)) : Actual predictions value: 11\n",
      "(15.17021266783119, array([14, 15,  2,  0,  4], dtype=int64)) : Actual predictions value: 15\n",
      "(17.613726144669904, array([16, 17,  1,  0,  4], dtype=int64)) : Actual predictions value: 18\n",
      "(12.749191597649654, array([13, 13,  3,  0,  0], dtype=int64)) : Actual predictions value: 13\n",
      "(7.345853408559988, array([8, 8, 2, 0, 0], dtype=int64)) : Actual predictions value: 0\n",
      "(5.570801015183176, array([ 7,  6,  2,  0, 10], dtype=int64)) : Actual predictions value: 6\n",
      "(19.919171309049826, array([18, 19,  1,  0,  6], dtype=int64)) : Actual predictions value: 19\n",
      "(13.555720993570352, array([14, 13,  1,  0,  8], dtype=int64)) : Actual predictions value: 13\n",
      "(7.15569673584282, array([9, 8, 4, 0, 2], dtype=int64)) : Actual predictions value: 8\n"
     ]
    }
   ],
   "source": [
    "for _ in range(30):\n",
    "    # split the data into 4 arrays  \n",
    "    x_train, x_test, y_train, y_test = sklearn.model_selection.train_test_split(X, Y, test_size=0.1) \n",
    "\n",
    "    linear = linear_model.LinearRegression()\n",
    "\n",
    "    linear.fit(x_train, y_train) # find the best fit line\n",
    "    acc  = linear.score(x_test, y_test) # accuracy\n",
    "\n",
    "    print(f'Model Accuracy : {acc}')\n",
    "\n",
    "    if acc > best:\n",
    "        best = acc\n",
    "        with open(\"studentmodel.pickle\",\"wb\") as f:\n",
    "            pickle.dump(linear, f)\n",
    "\n",
    "\n",
    "# read the saved pickle file\n",
    "pickle_in = open(\"studentmodel.pickle\",\"rb\")\n",
    "linear = pickle.load(pickle_in)\n",
    "\n",
    "print(f'Coefficient : {linear.coef_}')\n",
    "print(f'Intercept : {linear.intercept_}')\n",
    "\n",
    "predictions = linear.predict(x_test)\n",
    "\n",
    "for a in range(len(predictions)):\n",
    "    print(f'{predictions[a] , x_test[a]} : Actual predictions value: {y_test[a]}')"
   ]
  },
  {
   "cell_type": "code",
   "execution_count": 8,
   "metadata": {},
   "outputs": [],
   "source": []
  },
  {
   "cell_type": "code",
   "execution_count": 9,
   "metadata": {},
   "outputs": [],
   "source": [
    "# saving the highest scoring model\n",
    "\n",
    "    "
   ]
  },
  {
   "cell_type": "code",
   "execution_count": null,
   "metadata": {},
   "outputs": [],
   "source": []
  }
 ],
 "metadata": {
  "kernelspec": {
   "display_name": "myenv",
   "language": "python",
   "name": "python3"
  },
  "language_info": {
   "codemirror_mode": {
    "name": "ipython",
    "version": 3
   },
   "file_extension": ".py",
   "mimetype": "text/x-python",
   "name": "python",
   "nbconvert_exporter": "python",
   "pygments_lexer": "ipython3",
   "version": "3.10.1"
  },
  "orig_nbformat": 4
 },
 "nbformat": 4,
 "nbformat_minor": 2
}
